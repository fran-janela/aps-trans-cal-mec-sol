{
 "cells": [
  {
   "cell_type": "code",
   "execution_count": null,
   "metadata": {},
   "outputs": [],
   "source": [
    "# Considere uma aleta de seção transversal circular e constante, com temperatura fixa na base e exposta ao ambiente em\n",
    "# todas as outras superfícies. Podemos esboçar as entradas e saídas de energia em um volume de controle definido ao\n",
    "# redor de uma seção como indica a Fig.1. \n",
    "\n",
    "# 𝑞_x taxa de transferência de calor por condução em 𝑥.\n",
    "# q(x_+dx) taxa de transferência de calor por condução em 𝑥 + 𝑑𝑥.\n",
    "# dq_conv taxa de transferência de calor por convecção através da área superficial do elemento diferencial. \n",
    "# Substituindo as equações de taxa 𝑞_x,q(x_+dx) e dq_conv podemos obter a forma geral da equação da energia para uma\n",
    "# superfície estendida, em regime transiente como: \n",
    "\n"
   ]
  }
 ],
 "metadata": {
  "language_info": {
   "name": "python"
  },
  "orig_nbformat": 4
 },
 "nbformat": 4,
 "nbformat_minor": 2
}
