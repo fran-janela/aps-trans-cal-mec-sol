{
 "cells": [
  {
   "cell_type": "markdown",
   "metadata": {},
   "source": [
    "# APS 1 - Transferência de Calor e Mecânica dos Sólidos"
   ]
  },
  {
   "cell_type": "markdown",
   "metadata": {},
   "source": [
    "## Questão 1:\n",
    "\n",
    "Desenvolva um programa em Python que receba as informações necessárias para determinar cada um dos itens a seguir:\n",
    "\n",
    "- Ajuste o modelo e defina as condições de contorno para obter um gráfico da distribuição de temperatura (temperatura analítica) ao longo do comprimento da aleta. Qual a temperatura na extremidade da aleta?"
   ]
  },
  {
   "cell_type": "code",
   "execution_count": 2,
   "metadata": {},
   "outputs": [],
   "source": [
    "# Importando Bibliotecas\n",
    "from math import pi, sinh, cosh, sqrt\n",
    "import matplotlib.pyplot as plt\n",
    "import numpy as np\n",
    "\n",
    "# Declarando variáveis\n",
    "Tb = 100 + 273            # Temperatura da Base [K]\n",
    "Ta = 25 + 273             # Temperatura ambiente [K]\n",
    "r = 12e-3                 # Raio da Aleta [m]\n",
    "L = 168e-3                # Comprimento da Aleta [m]\n",
    "k = 154.808               # Condutividade térmica do alumínio-2014 [W/mK]\n",
    "h = 15                    # Coeficiente de transferência de calor por convecção natural em [W/(m^2*K)]\n"
   ]
  },
  {
   "cell_type": "code",
   "execution_count": 3,
   "metadata": {},
   "outputs": [
    {
     "data": {
      "image/png": "[encoded data removed]",
      "text/plain": [
       "<Figure size 1080x648 with 1 Axes>"
      ]
     },
     "metadata": {
      "needs_background": "light"
     },
     "output_type": "display_data"
    }
   ],
   "source": [
    "lista_temp_analitica = []\n",
    "\n",
    "P = 2 * pi * r\n",
    "Ab = pi * r**2\n",
    "\n",
    "m = sqrt((h * P) / (k * Ab))\n",
    "\n",
    "for x in np.arange(0, L, 1e-5):\n",
    "    num = cosh(m * (L - x)) + (h / (m * k)) * sinh(m * (L - x))\n",
    "    den = cosh(m * L) + (h / (m * k)) * sinh(m * L)\n",
    "    dis_temp = num / den\n",
    "    teta_L = dis_temp * (Tb - Ta)\n",
    "    Tl = teta_L + Ta\n",
    "    lista_temp_analitica.append(Tl)\n",
    "\n",
    "plt.figure(figsize=(15, 9))\n",
    "plt.plot(np.arange(0, L, 1e-5), lista_temp_analitica, 'r')\n",
    "plt.title(\"Temperatura Analítica no Comprimento da Aleta\")\n",
    "plt.xlabel(\"Posição na aleta [m]\")\n",
    "plt.ylabel(\"Temperatura Analítica [K]\")\n",
    "plt.grid()\n",
    "plt.show()\n"
   ]
  },
  {
   "cell_type": "code",
   "execution_count": 4,
   "metadata": {},
   "outputs": [
    {
     "name": "stdout",
     "output_type": "stream",
     "text": [
      "A temperatura da extremidade da aleta é: 84.798 °C\n"
     ]
    }
   ],
   "source": [
    "# Temperatura na extremidade da aleta:\n",
    "print('A temperatura da extremidade da aleta é: {:.3f} °C'.format(lista_temp_analitica[len(lista_temp_analitica) - 1] - 273))"
   ]
  },
  {
   "cell_type": "markdown",
   "metadata": {},
   "source": [
    "- Determine a taxa de transferência de calor, a eficiência e a efetividade para a geometria da aleta usada."
   ]
  },
  {
   "cell_type": "code",
   "execution_count": 5,
   "metadata": {},
   "outputs": [
    {
     "name": "stdout",
     "output_type": "stream",
     "text": [
      "A taxa de tranferência de calor é: 12.747 W\n"
     ]
    }
   ],
   "source": [
    "# Taxa de tranferência de calor:\n",
    "M = sqrt(h * P * k * Ab) * (Tb - Ta)\n",
    "qa = M * ((sinh(m * L) + (h / (m * k)) * cosh(m * L)) / (cosh(m * L) + (h / (m * k)) * sinh(m * L)))\n",
    "\n",
    "print('A taxa de tranferência de calor é: {:.3f} W'.format(qa))"
   ]
  },
  {
   "cell_type": "code",
   "execution_count": 6,
   "metadata": {},
   "outputs": [
    {
     "name": "stdout",
     "output_type": "stream",
     "text": [
      "A efetividade da aleta é: 25.045\n"
     ]
    }
   ],
   "source": [
    "# Efetividade da aleta:\n",
    "efetividade = qa / (h * Ab * (Tb - Ta))\n",
    "print('A efetividade da aleta é: {:.3f}'.format(efetividade))"
   ]
  },
  {
   "cell_type": "code",
   "execution_count": 7,
   "metadata": {},
   "outputs": [
    {
     "name": "stdout",
     "output_type": "stream",
     "text": [
      "A eficiência da aleta é: 86.364 %\n"
     ]
    }
   ],
   "source": [
    "# Eficiência da aleta:\n",
    "As = Ab + (2 * pi * r * L)\n",
    "na = qa / (h * As * (Tb - Ta))\n",
    "print('A eficiência da aleta é: {:.3f} %'.format(na * 100))"
   ]
  },
  {
   "cell_type": "markdown",
   "metadata": {},
   "source": [
    "- Assumindo a hipótese de aleta infinita, determine a taxa de transferência de calor. Compare esse valor com o resultado obtido no item anterior. Qual deveria ser o comprimento da aleta para que a hipótese de aleta infinita forneça uma medida precisa para a perda de calor."
   ]
  },
  {
   "cell_type": "code",
   "execution_count": 8,
   "metadata": {},
   "outputs": [
    {
     "name": "stdout",
     "output_type": "stream",
     "text": [
      "A taxa de tranferência de calor da aleta infinita é: 21.108 W\n"
     ]
    }
   ],
   "source": [
    "# Taxa de tranferência de calor da aleta infinita\n",
    "print('A taxa de tranferência de calor da aleta infinita é: {:.3f} W'.format(M))"
   ]
  },
  {
   "cell_type": "code",
   "execution_count": 9,
   "metadata": {},
   "outputs": [
    {
     "name": "stdout",
     "output_type": "stream",
     "text": [
      "O comprimento da aleta para que a hipótese da aleta infinita forneça uma medida precisa de perda de calor é: 103.265 cm\n"
     ]
    }
   ],
   "source": [
    "# Qual deveria ser o comprimento da aleta?\n",
    "qa_aleta_infinita = M\n",
    "qa_L = qa\n",
    "comprimento = L\n",
    "while qa_aleta_infinita - qa_L > 0.01:\n",
    "    qa_L = M * ((sinh(m * comprimento) + (h / (m * k)) * cosh(m * comprimento)) / (cosh(m * comprimento) + (h / (m * k)) * sinh(m * comprimento)))\n",
    "    comprimento += 1e-5\n",
    "\n",
    "print('O comprimento da aleta para que a hipótese da aleta infinita forneça uma medida precisa de perda de calor é: {:.3f} cm'.format(comprimento*100))\n"
   ]
  },
  {
   "cell_type": "markdown",
   "metadata": {},
   "source": [
    "## Questão 2\n",
    "\n",
    "$$Dado\\: que \\; \\; M=\\theta _{b} \\cdot \\sqrt{h\\cdot P\\cdot k\\cdot A_{tr}}$$\n",
    "\n",
    "Um longo bastão circular de alumínio tem uma de suas extremidades fixada a uma parede aquecida e transfere calor por convecção para um fluido frio.\n",
    "\n",
    "- Se o diâmetro do bastão fosse triplicado, qual seria a mudança na taxa de remoção de calor através do bastão?"
   ]
  },
  {
   "cell_type": "markdown",
   "metadata": {},
   "source": [
    "Primeiramente, vamos cálcular a taxa de remoção de calor através de um bastão de raio `r`\n",
    "\n",
    "$$M=\\theta _{b} \\cdot \\sqrt{h\\cdot (2\\cdot \\pi \\cdot r)\\cdot k\\cdot (\\pi \\cdot r^{2})}$$\n",
    "\n",
    "$$M=\\theta _{b} \\cdot \\sqrt{2\\cdot \\pi^{2} \\cdot r^{3}\\cdot h\\cdot k}$$\n",
    "\n",
    "$$M=\\theta _{b} \\cdot \\pi \\cdot r \\cdot \\sqrt{2\\cdot r\\cdot h\\cdot k}$$\n",
    "\n",
    "Agora, triplicando o raio `r`\n",
    "\n",
    "$${M}'=\\theta _{b} \\cdot \\sqrt{h\\cdot (2\\cdot \\pi \\cdot (3 \\cdot r))\\cdot k\\cdot (\\pi \\cdot (3 \\cdot r)^{2})}$$\n",
    "\n",
    "$${M}'=\\theta _{b} \\cdot \\sqrt{54 \\cdot \\pi^{2} \\cdot r^{3} \\cdot h \\cdot k}$$\n",
    "\n",
    "$${M}'=3 \\sqrt{3} \\cdot (\\theta _{b} \\cdot \\pi \\cdot r \\cdot \\sqrt{2\\cdot r\\cdot h\\cdot k})$$\n",
    "\n",
    "Portanto,\n",
    "\n",
    "$${M}'=3\\sqrt{3} \\cdot M$$"
   ]
  },
  {
   "cell_type": "markdown",
   "metadata": {},
   "source": [
    "- Se um bastão de cobre com o mesmo diâmetro fosse usado em lugar do bastão de alumínio, qual seria a mudança na taxa de remoção de calor através do bastão? Considere $$k_{Cu}=400\\frac{_{W}}{^{mK}} \\;\\;\\;  k_{Al}=240\\frac{_{W}}{^{mK}}$$\n"
   ]
  },
  {
   "cell_type": "markdown",
   "metadata": {},
   "source": [
    "De jeito similar como resolvemos o último item, vamos cálcular a taxa de remoção de calor através de um bastão de raio `r` com `k`'s diferentes\n",
    "\n",
    "$$M_{Cu}=\\theta _{b} \\cdot \\sqrt{h\\cdot P\\cdot k_{Cu}\\cdot A_{tr}}$$\n",
    "\n",
    "$$M_{Cu}=20 \\cdot \\theta _{b} \\cdot \\sqrt{h\\cdot P\\cdot A_{tr}}$$\n",
    "\n",
    "$$M_{Al}=\\theta _{b} \\cdot \\sqrt{h\\cdot P\\cdot k_{Al}\\cdot A_{tr}}$$\n",
    "\n",
    "$$M_{Al}=4 \\sqrt{15} \\cdot \\theta _{b} \\cdot \\sqrt{h\\cdot P\\cdot A_{tr}}$$\n",
    "\n",
    "Ou seja,\n",
    "\n",
    "$$M_{Al} = M_{Cu} \\cdot \\frac{\\sqrt{15}}{5}$$"
   ]
  },
  {
   "cell_type": "code",
   "execution_count": null,
   "metadata": {},
   "outputs": [],
   "source": []
  }
 ],
 "metadata": {
  "interpreter": {
   "hash": "70f49f041679d74ed38be3dd5d541915742122842326991e72b7f203061ffb6e"
  },
  "kernelspec": {
   "display_name": "Python 3 (ipykernel)",
   "language": "python",
   "name": "python3"
  },
  "language_info": {
   "codemirror_mode": {
    "name": "ipython",
    "version": 3
   },
   "file_extension": ".py",
   "mimetype": "text/x-python",
   "name": "python",
   "nbconvert_exporter": "python",
   "pygments_lexer": "ipython3",
   "version": "3.8.10"
  }
 },
 "nbformat": 4,
 "nbformat_minor": 2
}
